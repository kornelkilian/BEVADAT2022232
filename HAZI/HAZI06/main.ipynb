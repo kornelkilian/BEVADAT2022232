{
 "cells": [
  {
   "cell_type": "markdown",
   "metadata": {},
   "source": []
  },
  {
   "cell_type": "code",
   "execution_count": 5,
   "metadata": {},
   "outputs": [],
   "source": [
    "import numpy as np\n",
    "import pandas as pd\n",
    "\n",
    "from sklearn.model_selection import train_test_split\n",
    "from sklearn.metrics import accuracy_score\n",
    "\n",
    "from src.DecisionTreeClassifier import DecisionTreeClassifier\n",
    "from src.NJCleaner import NJCleaner"
   ]
  },
  {
   "cell_type": "code",
   "execution_count": 10,
   "metadata": {},
   "outputs": [],
   "source": [
    "cleaner=NJCleaner('2018_03.csv')\n",
    "cleaner.prep_df(csv_path='asd.csv')\n",
    "col_name = ['day','stop_sequence','from_id','to_id','part_of_the_day','delay','status','line','type']\n",
    "data = pd.read_csv('asd.csv', skiprows=1, header=None, names=col_name)\n",
    "\n",
    "X = data.iloc[:, :-1].values\n",
    "Y = data.iloc[:, -1].values.reshape(-1, 1)\n",
    "X_train, X_test, Y_train, Y_test = train_test_split(X, Y, test_size=.2, random_state=41)"
   ]
  },
  {
   "cell_type": "code",
   "execution_count": 11,
   "metadata": {},
   "outputs": [
    {
     "ename": "TypeError",
     "evalue": "'<' not supported between instances of 'str' and 'float'",
     "output_type": "error",
     "traceback": [
      "\u001b[0;31m---------------------------------------------------------------------------\u001b[0m",
      "\u001b[0;31mTypeError\u001b[0m                                 Traceback (most recent call last)",
      "Cell \u001b[0;32mIn[11], line 2\u001b[0m\n\u001b[1;32m      1\u001b[0m classifier \u001b[39m=\u001b[39m DecisionTreeClassifier(min_samples_split\u001b[39m=\u001b[39m\u001b[39m3\u001b[39m, max_depth\u001b[39m=\u001b[39m\u001b[39m3\u001b[39m)\n\u001b[0;32m----> 2\u001b[0m classifier\u001b[39m.\u001b[39;49mfit(X_train, Y_train)\n\u001b[1;32m      4\u001b[0m Y_pred \u001b[39m=\u001b[39m classifier\u001b[39m.\u001b[39mpredict(X_test)\n\u001b[1;32m      6\u001b[0m \u001b[39mprint\u001b[39m(accuracy_score(Y_test, Y_pred))\n",
      "File \u001b[0;32m~/Documents/GitHub/BEVADAT2022232/HAZI/HAZI06/src/DecisionTreeClassifier.py:106\u001b[0m, in \u001b[0;36mDecisionTreeClassifier.fit\u001b[0;34m(self, X, Y)\u001b[0m\n\u001b[1;32m    103\u001b[0m \u001b[39mdef\u001b[39;00m \u001b[39mfit\u001b[39m(\u001b[39mself\u001b[39m, X, Y):\n\u001b[1;32m    105\u001b[0m     dataset \u001b[39m=\u001b[39m np\u001b[39m.\u001b[39mconcatenate((X, Y), axis\u001b[39m=\u001b[39m\u001b[39m1\u001b[39m)\n\u001b[0;32m--> 106\u001b[0m     \u001b[39mself\u001b[39m\u001b[39m.\u001b[39mroot \u001b[39m=\u001b[39m \u001b[39mself\u001b[39;49m\u001b[39m.\u001b[39;49mbuild_tree(dataset)\n",
      "File \u001b[0;32m~/Documents/GitHub/BEVADAT2022232/HAZI/HAZI06/src/DecisionTreeClassifier.py:18\u001b[0m, in \u001b[0;36mDecisionTreeClassifier.build_tree\u001b[0;34m(self, dataset, curr_depth)\u001b[0m\n\u001b[1;32m     16\u001b[0m num_samples, num_features \u001b[39m=\u001b[39m np\u001b[39m.\u001b[39mshape(X)\n\u001b[1;32m     17\u001b[0m \u001b[39mif\u001b[39;00m num_samples\u001b[39m>\u001b[39m\u001b[39m=\u001b[39m\u001b[39mself\u001b[39m\u001b[39m.\u001b[39mmin_samples_split \u001b[39mand\u001b[39;00m curr_depth\u001b[39m<\u001b[39m\u001b[39m=\u001b[39m\u001b[39mself\u001b[39m\u001b[39m.\u001b[39mmax_depth:\n\u001b[0;32m---> 18\u001b[0m     best_split \u001b[39m=\u001b[39m \u001b[39mself\u001b[39;49m\u001b[39m.\u001b[39;49mget_best_split(dataset, num_samples, num_features)\n\u001b[1;32m     19\u001b[0m     \u001b[39mif\u001b[39;00m best_split[\u001b[39m\"\u001b[39m\u001b[39minfo_gain\u001b[39m\u001b[39m\"\u001b[39m]\u001b[39m>\u001b[39m\u001b[39m0\u001b[39m: \n\u001b[1;32m     20\u001b[0m         left_subtree \u001b[39m=\u001b[39m \u001b[39mself\u001b[39m\u001b[39m.\u001b[39mbuild_tree(best_split[\u001b[39m\"\u001b[39m\u001b[39mdataset_left\u001b[39m\u001b[39m\"\u001b[39m], curr_depth\u001b[39m+\u001b[39m\u001b[39m1\u001b[39m)\n",
      "File \u001b[0;32m~/Documents/GitHub/BEVADAT2022232/HAZI/HAZI06/src/DecisionTreeClassifier.py:37\u001b[0m, in \u001b[0;36mDecisionTreeClassifier.get_best_split\u001b[0;34m(self, dataset, num_samples, num_features)\u001b[0m\n\u001b[1;32m     35\u001b[0m \u001b[39mfor\u001b[39;00m feature_index \u001b[39min\u001b[39;00m \u001b[39mrange\u001b[39m(num_features):\n\u001b[1;32m     36\u001b[0m     feature_values \u001b[39m=\u001b[39m dataset[:, feature_index]\n\u001b[0;32m---> 37\u001b[0m     possible_thresholds \u001b[39m=\u001b[39m np\u001b[39m.\u001b[39;49munique(feature_values)\n\u001b[1;32m     38\u001b[0m     \u001b[39mfor\u001b[39;00m threshold \u001b[39min\u001b[39;00m possible_thresholds: \n\u001b[1;32m     39\u001b[0m         dataset_left, dataset_right \u001b[39m=\u001b[39m \u001b[39mself\u001b[39m\u001b[39m.\u001b[39msplit(dataset, feature_index, threshold)\n",
      "File \u001b[0;32m<__array_function__ internals>:200\u001b[0m, in \u001b[0;36munique\u001b[0;34m(*args, **kwargs)\u001b[0m\n",
      "File \u001b[0;32m/Library/Frameworks/Python.framework/Versions/3.11/lib/python3.11/site-packages/numpy/lib/arraysetops.py:274\u001b[0m, in \u001b[0;36munique\u001b[0;34m(ar, return_index, return_inverse, return_counts, axis, equal_nan)\u001b[0m\n\u001b[1;32m    272\u001b[0m ar \u001b[39m=\u001b[39m np\u001b[39m.\u001b[39masanyarray(ar)\n\u001b[1;32m    273\u001b[0m \u001b[39mif\u001b[39;00m axis \u001b[39mis\u001b[39;00m \u001b[39mNone\u001b[39;00m:\n\u001b[0;32m--> 274\u001b[0m     ret \u001b[39m=\u001b[39m _unique1d(ar, return_index, return_inverse, return_counts, \n\u001b[1;32m    275\u001b[0m                     equal_nan\u001b[39m=\u001b[39;49mequal_nan)\n\u001b[1;32m    276\u001b[0m     \u001b[39mreturn\u001b[39;00m _unpack_tuple(ret)\n\u001b[1;32m    278\u001b[0m \u001b[39m# axis was specified and not None\u001b[39;00m\n",
      "File \u001b[0;32m/Library/Frameworks/Python.framework/Versions/3.11/lib/python3.11/site-packages/numpy/lib/arraysetops.py:336\u001b[0m, in \u001b[0;36m_unique1d\u001b[0;34m(ar, return_index, return_inverse, return_counts, equal_nan)\u001b[0m\n\u001b[1;32m    334\u001b[0m     aux \u001b[39m=\u001b[39m ar[perm]\n\u001b[1;32m    335\u001b[0m \u001b[39melse\u001b[39;00m:\n\u001b[0;32m--> 336\u001b[0m     ar\u001b[39m.\u001b[39msort()\n\u001b[1;32m    337\u001b[0m     aux \u001b[39m=\u001b[39m ar\n\u001b[1;32m    338\u001b[0m mask \u001b[39m=\u001b[39m np\u001b[39m.\u001b[39mempty(aux\u001b[39m.\u001b[39mshape, dtype\u001b[39m=\u001b[39mnp\u001b[39m.\u001b[39mbool_)\n",
      "\u001b[0;31mTypeError\u001b[0m: '<' not supported between instances of 'str' and 'float'"
     ]
    }
   ],
   "source": [
    "\n",
    "classifier = DecisionTreeClassifier(min_samples_split=3, max_depth=3)\n",
    "classifier.fit(X_train, Y_train)\n",
    "\n",
    "Y_pred = classifier.predict(X_test)\n",
    "\n",
    "print(accuracy_score(Y_test, Y_pred))"
   ]
  }
 ],
 "metadata": {
  "kernelspec": {
   "display_name": "Python 3",
   "language": "python",
   "name": "python3"
  },
  "language_info": {
   "codemirror_mode": {
    "name": "ipython",
    "version": 3
   },
   "file_extension": ".py",
   "mimetype": "text/x-python",
   "name": "python",
   "nbconvert_exporter": "python",
   "pygments_lexer": "ipython3",
   "version": "3.11.2"
  },
  "orig_nbformat": 4
 },
 "nbformat": 4,
 "nbformat_minor": 2
}
