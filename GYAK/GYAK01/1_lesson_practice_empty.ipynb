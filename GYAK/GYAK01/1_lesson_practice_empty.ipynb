{
 "cells": [
  {
   "cell_type": "code",
   "execution_count": null,
   "metadata": {},
   "outputs": [],
   "source": [
    "#Create a function that decides if a list contains any odd numbers.\n",
    "#return type: bool\n",
    "#function name must be: contains_odd\n",
    "#input parameters: input_list"
   ]
  },
  {
   "cell_type": "code",
   "execution_count": null,
   "metadata": {},
   "outputs": [],
   "source": [
    "def contains_odd(input_list):\n",
    "    for i in range(len(input_list)):\n",
    "        if  input_list[i]%2==1:\n",
    "            return False\n",
    "    return True        "
   ]
  },
  {
   "cell_type": "code",
   "execution_count": null,
   "metadata": {},
   "outputs": [],
   "source": [
    "#Create a function that accepts a list of integers, and returns a list of bool.\n",
    "#The return list should be a \"mask\" and indicate whether the list element is odd or not.\n",
    "#(return should look like this: [True,False,False,.....])\n",
    "#return type: list\n",
    "#function name must be: is_odd\n",
    "#input parameters: input_list"
   ]
  },
  {
   "cell_type": "code",
   "execution_count": null,
   "metadata": {},
   "outputs": [],
   "source": [
    "def is_odd(input_list):\n",
    "    mylist=[]\n",
    "    for i in range(len(input_list)):\n",
    "        if input_list[i]%2==1:\n",
    "            mylist.append(True)\n",
    "        else:\n",
    "            mylist.append(False)\n",
    "    return mylist    "
   ]
  },
  {
   "cell_type": "code",
   "execution_count": null,
   "metadata": {},
   "outputs": [],
   "source": [
    "\n",
    "#Create a function that accpects 2 lists of integers and returns their element wise sum. <br>\n",
    "#(return should be a list)\n",
    "#return type: list\n",
    "#function name must be: element_wise_sum\n",
    "#input parameters: input_list_1, input_list_2"
   ]
  },
  {
   "cell_type": "code",
   "execution_count": null,
   "metadata": {},
   "outputs": [],
   "source": [
    "def element_wise_sum(input_list_1,input_list_2):\n",
    "   return [a + b for a, b in zip(input_list_1, input_list_2)]"
   ]
  },
  {
   "cell_type": "code",
   "execution_count": null,
   "metadata": {},
   "outputs": [],
   "source": [
    "#Create a function that accepts a dictionary and returns its items as a list of tuples\n",
    "#(return should look like this: [(key,value),(key,value),....])\n",
    "#return type: list\n",
    "#function name must be: dict_to_list\n",
    "#input parameters: input_dict"
   ]
  },
  {
   "cell_type": "code",
   "execution_count": null,
   "metadata": {},
   "outputs": [],
   "source": [
    "def dict_to_list(input_dict):\n",
    "    return list(input_dict.items())"
   ]
  },
  {
   "cell_type": "code",
   "execution_count": null,
   "metadata": {},
   "outputs": [],
   "source": [
    "#If all the functions are created convert this notebook into a .py file and push to your repo"
   ]
  }
 ],
 "metadata": {
  "kernelspec": {
   "display_name": "Python 3",
   "language": "python",
   "name": "python3"
  },
  "language_info": {
   "name": "python",
   "version": "3.10.8"
  },
  "orig_nbformat": 4,
  "vscode": {
   "interpreter": {
    "hash": "b0fa6594d8f4cbf19f97940f81e996739fb7646882a419484c72d19e05852a7e"
   }
  }
 },
 "nbformat": 4,
 "nbformat_minor": 2
}
